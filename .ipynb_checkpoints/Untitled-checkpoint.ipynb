{
 "cells": [
  {
   "cell_type": "code",
   "execution_count": 1,
   "id": "48f9aea6",
   "metadata": {},
   "outputs": [],
   "source": [
    "import cv2\n",
    "import matplotlib.pyplot as plt\n",
    "import os"
   ]
  },
  {
   "cell_type": "code",
   "execution_count": 9,
   "id": "c26b180b",
   "metadata": {},
   "outputs": [],
   "source": [
    "not_clean_dec = \"D:\\\\code\\\\deep learning\\\\Plant detection\\\\plant-leaves-images-dataset-\\\\\"\n",
    "clean_dic = \"D:\\\\code\\\\deep learning\\\\Plant detection\\\\data-set-cleaned\\\\\""
   ]
  },
  {
   "cell_type": "code",
   "execution_count": 10,
   "id": "42a20c75",
   "metadata": {},
   "outputs": [],
   "source": [
    "os.mkdir(clean_dic + \"hi\")"
   ]
  },
  {
   "cell_type": "code",
   "execution_count": 11,
   "id": "faa5995f",
   "metadata": {},
   "outputs": [
    {
     "data": {
      "text/plain": [
       "['moneyPlant', 'peepalTree', 'spiderPlant']"
      ]
     },
     "execution_count": 11,
     "metadata": {},
     "output_type": "execute_result"
    }
   ],
   "source": [
    "classes_folder = os.listdir(not_clean_dec)\n",
    "classes_folder"
   ]
  },
  {
   "cell_type": "code",
   "execution_count": 13,
   "id": "300b1f90",
   "metadata": {},
   "outputs": [
    {
     "data": {
      "text/plain": [
       "'D:\\\\code\\\\deep learning\\\\Plant detection\\\\plant-leaves-images-dataset-\\\\moneyPlant'"
      ]
     },
     "execution_count": 13,
     "metadata": {},
     "output_type": "execute_result"
    }
   ],
   "source": [
    "not_clean_dec + classes_folder[0]"
   ]
  },
  {
   "cell_type": "code",
   "execution_count": null,
   "id": "c1acf5c7",
   "metadata": {},
   "outputs": [],
   "source": []
  },
  {
   "cell_type": "code",
   "execution_count": null,
   "id": "fcfc1c7a",
   "metadata": {},
   "outputs": [],
   "source": []
  },
  {
   "cell_type": "code",
   "execution_count": 22,
   "id": "a33010fe",
   "metadata": {},
   "outputs": [
    {
     "name": "stdout",
     "output_type": "stream",
     "text": [
      "D:\\code\\deep learning\\Plant detection\\plant-leaves-images-dataset-\\moneyPlant\n",
      "D:\\code\\deep learning\\Plant detection\\plant-leaves-images-dataset-\\peepalTree\n",
      "D:\\code\\deep learning\\Plant detection\\plant-leaves-images-dataset-\\spiderPlant\n"
     ]
    }
   ],
   "source": [
    "for classes in classes_folder:\n",
    "    plant_folder = not_clean_dec + classes \n",
    "    print(plant_folder)\n",
    "    plant_images = os.listdir(plant_folder)\n",
    "    for images in plant_images:\n",
    "        image_dic = plant_folder + \"\\\\\" + images\n",
    "        \n",
    "        "
   ]
  },
  {
   "cell_type": "code",
   "execution_count": null,
   "id": "68f2d02f",
   "metadata": {},
   "outputs": [],
   "source": []
  },
  {
   "cell_type": "code",
   "execution_count": null,
   "id": "bfda9e6d",
   "metadata": {},
   "outputs": [],
   "source": []
  }
 ],
 "metadata": {
  "kernelspec": {
   "display_name": "tf",
   "language": "python",
   "name": "tf"
  },
  "language_info": {
   "codemirror_mode": {
    "name": "ipython",
    "version": 3
   },
   "file_extension": ".py",
   "mimetype": "text/x-python",
   "name": "python",
   "nbconvert_exporter": "python",
   "pygments_lexer": "ipython3",
   "version": "3.10.4"
  }
 },
 "nbformat": 4,
 "nbformat_minor": 5
}
